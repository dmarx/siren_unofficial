{
 "cells": [
  {
   "cell_type": "code",
   "execution_count": 1,
   "id": "a7b8ebd6-09b3-46a7-9369-64d9b76764b5",
   "metadata": {},
   "outputs": [],
   "source": [
    "from model import SirenImageLearner, SirenImageDataWrapper\n",
    "\n",
    "import math\n",
    "import torch\n",
    "from torch.optim.lr_scheduler import CosineAnnealingLR\n",
    "import torch.nn as nn\n",
    "import torch.nn.functional as F\n",
    "import torchvision\n",
    "import pytorch_lightning as pl\n",
    "\n",
    "from torchvision.transforms import ToTensor, ToPILImage\n",
    "\n",
    "from loguru import logger\n",
    "import matplotlib.pyplot as plt\n",
    "import PIL\n",
    "import tqdm\n",
    "\n",
    "# fuck it...\n",
    "DEVICE = 'cuda'"
   ]
  },
  {
   "cell_type": "code",
   "execution_count": 2,
   "id": "4cd195da-2353-4b37-a1af-5cd7d5850c35",
   "metadata": {},
   "outputs": [
    {
     "name": "stdout",
     "output_type": "stream",
     "text": [
      "Tue Oct 12 13:50:18 2021       \n",
      "+-----------------------------------------------------------------------------+\n",
      "| NVIDIA-SMI 471.41       Driver Version: 471.41       CUDA Version: 11.4     |\n",
      "|-------------------------------+----------------------+----------------------+\n",
      "| GPU  Name            TCC/WDDM | Bus-Id        Disp.A | Volatile Uncorr. ECC |\n",
      "| Fan  Temp  Perf  Pwr:Usage/Cap|         Memory-Usage | GPU-Util  Compute M. |\n",
      "|                               |                      |               MIG M. |\n",
      "|===============================+======================+======================|\n",
      "|   0  NVIDIA GeForce ... WDDM  | 00000000:01:00.0 Off |                  N/A |\n",
      "|  0%   43C    P8    17W / 350W |    700MiB / 24576MiB |      0%      Default |\n",
      "|                               |                      |                  N/A |\n",
      "+-------------------------------+----------------------+----------------------+\n",
      "                                                                               \n",
      "+-----------------------------------------------------------------------------+\n",
      "| Processes:                                                                  |\n",
      "|  GPU   GI   CI        PID   Type   Process name                  GPU Memory |\n",
      "|        ID   ID                                                   Usage      |\n",
      "|=============================================================================|\n",
      "|    0   N/A  N/A      1488    C+G   Insufficient Permissions        N/A      |\n",
      "|    0   N/A  N/A      4620    C+G   C:\\Windows\\explorer.exe         N/A      |\n",
      "|    0   N/A  N/A      8124    C+G   ...5n1h2txyewy\\SearchApp.exe    N/A      |\n",
      "|    0   N/A  N/A      8708    C+G   ...5n1h2txyewy\\SearchApp.exe    N/A      |\n",
      "|    0   N/A  N/A      8808    C+G   ...b3d8bbwe\\WinStore.App.exe    N/A      |\n",
      "|    0   N/A  N/A      9248    C+G   ...cw5n1h2txyewy\\LockApp.exe    N/A      |\n",
      "|    0   N/A  N/A      9668    C+G   ...ekyb3d8bbwe\\YourPhone.exe    N/A      |\n",
      "|    0   N/A  N/A     13596    C+G   ...nputApp\\TextInputHost.exe    N/A      |\n",
      "|    0   N/A  N/A     15180    C+G   ...ge\\Application\\msedge.exe    N/A      |\n",
      "|    0   N/A  N/A     15940    C+G   ...y\\ShellExperienceHost.exe    N/A      |\n",
      "|    0   N/A  N/A     16768    C+G   ...bbwe\\Microsoft.Photos.exe    N/A      |\n",
      "|    0   N/A  N/A     20372    C+G   ...lPanel\\SystemSettings.exe    N/A      |\n",
      "+-----------------------------------------------------------------------------+\n"
     ]
    }
   ],
   "source": [
    "!nvidia-smi"
   ]
  },
  {
   "cell_type": "code",
   "execution_count": 3,
   "id": "35e7be07-e0ab-456d-8d5c-e49e98a564c6",
   "metadata": {},
   "outputs": [
    {
     "name": "stderr",
     "output_type": "stream",
     "text": [
      "GPU available: True, used: True\n",
      "TPU available: False, using: 0 TPU cores\n",
      "IPU available: False, using: 0 IPUs\n"
     ]
    }
   ],
   "source": [
    "im_path = '../data/google-photos-export/uncompressed/takeout-20210901T023707Z-001/Takeout/Google Photos/lithophane candidates/20210313_133327.jpg'\n",
    "im = PIL.Image.open(im_path)\n",
    "im3 = im.resize((122, 163)).convert('L').rotate(-90, expand=True)\n",
    "t_im3 = ToTensor()(im3).squeeze()\n",
    "\n",
    "from pytorch_lightning.loggers import TensorBoardLogger, MLFlowLogger, WandbLogger\n",
    "\n",
    "#wandb_logger = WandbLogger()\n",
    "tb_logger = TensorBoardLogger(\"tb_logs\", name=\"siren-upsample\")\n",
    "\n",
    "model = SirenImageLearner(\n",
    "    #notebook_mode=True\n",
    "    warmup_steps=150,\n",
    "    cvm_alpha=1,#00,\n",
    "    )\n",
    "dm = SirenImageDataWrapper(target_image=t_im3)\n",
    "\n",
    "\n",
    "from pytorch_lightning.callbacks import LearningRateMonitor, StochasticWeightAveraging\n",
    "lr_monitor = LearningRateMonitor(logging_interval='step')\n",
    "\n",
    "# https://pytorch-lightning.readthedocs.io/en/latest/extensions/generated/pytorch_lightning.callbacks.StochasticWeightAveraging.html#pytorch_lightning.callbacks.StochasticWeightAveraging\n",
    "# setting \"Trainer(...,stochastic_weight_avg=True,...)\" threw an error\n",
    "# complaining that I didn't have max_epochs set. Probably another opportunity for a PR...\n",
    "# also, the callback only has epoch-granularity settings. Nothing about steps.\n",
    "swa_callback = StochasticWeightAveraging(\n",
    "    swa_epoch_start  = 1500, # each step counts as an epoch?\n",
    "    annealing_epochs = 300, # assuming this corresponds to Tmax for cosine annealing\n",
    "    annealing_strategy= 'cos', # this is the default, just being explicit for my own benefit\n",
    ")\n",
    "\n",
    "# https://pytorch-lightning.readthedocs.io/en/latest/common/trainer.html#trainer-flags\n",
    "trainer = pl.Trainer(\n",
    "    gpus=-1,\n",
    "    max_steps=5000,\n",
    "    max_epochs=5000, # fuck it... must appease the SWA...\n",
    "    #max_steps=100000, # I think there's a way to use CLI args to override here\n",
    "    log_every_n_steps=100, #50,\n",
    "    logger=tb_logger,\n",
    "    log_gpu_memory=True, # fuck yeah!\n",
    "    weights_summary=None,\n",
    "    #stochastic_weight_avg=True, # neat I think this will do cosine annealing on its own?\n",
    "    callbacks=[lr_monitor, swa_callback] # yeah baby.\n",
    ")"
   ]
  },
  {
   "cell_type": "code",
   "execution_count": 4,
   "id": "ab9a1b2c-35fc-4dd3-9115-482d4177a43a",
   "metadata": {},
   "outputs": [
    {
     "name": "stdout",
     "output_type": "stream",
     "text": [
      "Tue Oct 12 13:50:18 2021       \n",
      "+-----------------------------------------------------------------------------+\n",
      "| NVIDIA-SMI 471.41       Driver Version: 471.41       CUDA Version: 11.4     |\n",
      "|-------------------------------+----------------------+----------------------+\n",
      "| GPU  Name            TCC/WDDM | Bus-Id        Disp.A | Volatile Uncorr. ECC |\n",
      "| Fan  Temp  Perf  Pwr:Usage/Cap|         Memory-Usage | GPU-Util  Compute M. |\n",
      "|                               |                      |               MIG M. |\n",
      "|===============================+======================+======================|\n",
      "|   0  NVIDIA GeForce ... WDDM  | 00000000:01:00.0 Off |                  N/A |\n",
      "|  0%   43C    P8    10W / 350W |    700MiB / 24576MiB |      1%      Default |\n",
      "|                               |                      |                  N/A |\n",
      "+-------------------------------+----------------------+----------------------+\n",
      "                                                                               \n",
      "+-----------------------------------------------------------------------------+\n",
      "| Processes:                                                                  |\n",
      "|  GPU   GI   CI        PID   Type   Process name                  GPU Memory |\n",
      "|        ID   ID                                                   Usage      |\n",
      "|=============================================================================|\n",
      "|    0   N/A  N/A      1488    C+G   Insufficient Permissions        N/A      |\n",
      "|    0   N/A  N/A      4620    C+G   C:\\Windows\\explorer.exe         N/A      |\n",
      "|    0   N/A  N/A      8124    C+G   ...5n1h2txyewy\\SearchApp.exe    N/A      |\n",
      "|    0   N/A  N/A      8708    C+G   ...5n1h2txyewy\\SearchApp.exe    N/A      |\n",
      "|    0   N/A  N/A      8808    C+G   ...b3d8bbwe\\WinStore.App.exe    N/A      |\n",
      "|    0   N/A  N/A      9248    C+G   ...cw5n1h2txyewy\\LockApp.exe    N/A      |\n",
      "|    0   N/A  N/A      9668    C+G   ...ekyb3d8bbwe\\YourPhone.exe    N/A      |\n",
      "|    0   N/A  N/A     13596    C+G   ...nputApp\\TextInputHost.exe    N/A      |\n",
      "|    0   N/A  N/A     15180    C+G   ...ge\\Application\\msedge.exe    N/A      |\n",
      "|    0   N/A  N/A     15940    C+G   ...y\\ShellExperienceHost.exe    N/A      |\n",
      "|    0   N/A  N/A     16768    C+G   ...bbwe\\Microsoft.Photos.exe    N/A      |\n",
      "|    0   N/A  N/A     20372    C+G   ...lPanel\\SystemSettings.exe    N/A      |\n",
      "+-----------------------------------------------------------------------------+\n"
     ]
    }
   ],
   "source": [
    "!nvidia-smi"
   ]
  },
  {
   "cell_type": "code",
   "execution_count": 5,
   "id": "674e143f-4961-49fd-aca5-6d33d7887418",
   "metadata": {},
   "outputs": [
    {
     "name": "stderr",
     "output_type": "stream",
     "text": [
      "LOCAL_RANK: 0 - CUDA_VISIBLE_DEVICES: [0]\n",
      "C:\\Users\\shagg\\anaconda3\\envs\\sandbox\\lib\\site-packages\\pytorch_lightning\\callbacks\\lr_monitor.py:112: RuntimeWarning: You are using `LearningRateMonitor` callback with models that have no learning rate schedulers. Please see documentation for `configure_optimizers` method.\n",
      "  rank_zero_warn(\n"
     ]
    },
    {
     "data": {
      "application/vnd.jupyter.widget-view+json": {
       "model_id": "7c2e20febd7044969a7bf59e5c875f56",
       "version_major": 2,
       "version_minor": 0
      },
      "text/plain": [
       "Training: -1it [00:00, ?it/s]"
      ]
     },
     "metadata": {},
     "output_type": "display_data"
    }
   ],
   "source": [
    "trainer.fit(model, dm)"
   ]
  },
  {
   "cell_type": "code",
   "execution_count": 6,
   "id": "680b0ec1-fb04-45e9-85b1-39e76cdda091",
   "metadata": {},
   "outputs": [
    {
     "name": "stdout",
     "output_type": "stream",
     "text": [
      "Tue Oct 12 13:58:06 2021       \n",
      "+-----------------------------------------------------------------------------+\n",
      "| NVIDIA-SMI 471.41       Driver Version: 471.41       CUDA Version: 11.4     |\n",
      "|-------------------------------+----------------------+----------------------+\n",
      "| GPU  Name            TCC/WDDM | Bus-Id        Disp.A | Volatile Uncorr. ECC |\n",
      "| Fan  Temp  Perf  Pwr:Usage/Cap|         Memory-Usage | GPU-Util  Compute M. |\n",
      "|                               |                      |               MIG M. |\n",
      "|===============================+======================+======================|\n",
      "|   0  NVIDIA GeForce ... WDDM  | 00000000:01:00.0 Off |                  N/A |\n",
      "| 51%   59C    P2   131W / 350W |   1830MiB / 24576MiB |     19%      Default |\n",
      "|                               |                      |                  N/A |\n",
      "+-------------------------------+----------------------+----------------------+\n",
      "                                                                               \n",
      "+-----------------------------------------------------------------------------+\n",
      "| Processes:                                                                  |\n",
      "|  GPU   GI   CI        PID   Type   Process name                  GPU Memory |\n",
      "|        ID   ID                                                   Usage      |\n",
      "|=============================================================================|\n",
      "|    0   N/A  N/A      1488    C+G   Insufficient Permissions        N/A      |\n",
      "|    0   N/A  N/A      4620    C+G   C:\\Windows\\explorer.exe         N/A      |\n",
      "|    0   N/A  N/A      7000      C   ...3\\envs\\sandbox\\python.exe    N/A      |\n",
      "|    0   N/A  N/A      8124    C+G   ...5n1h2txyewy\\SearchApp.exe    N/A      |\n",
      "|    0   N/A  N/A      8708    C+G   ...5n1h2txyewy\\SearchApp.exe    N/A      |\n",
      "|    0   N/A  N/A      8808    C+G   ...b3d8bbwe\\WinStore.App.exe    N/A      |\n",
      "|    0   N/A  N/A      9248    C+G   ...cw5n1h2txyewy\\LockApp.exe    N/A      |\n",
      "|    0   N/A  N/A      9668    C+G   ...ekyb3d8bbwe\\YourPhone.exe    N/A      |\n",
      "|    0   N/A  N/A     13596    C+G   ...nputApp\\TextInputHost.exe    N/A      |\n",
      "|    0   N/A  N/A     15180    C+G   ...ge\\Application\\msedge.exe    N/A      |\n",
      "|    0   N/A  N/A     15940    C+G   ...y\\ShellExperienceHost.exe    N/A      |\n",
      "|    0   N/A  N/A     16768    C+G   ...bbwe\\Microsoft.Photos.exe    N/A      |\n",
      "|    0   N/A  N/A     20372    C+G   ...lPanel\\SystemSettings.exe    N/A      |\n",
      "+-----------------------------------------------------------------------------+\n"
     ]
    }
   ],
   "source": [
    "!nvidia-smi"
   ]
  },
  {
   "cell_type": "code",
   "execution_count": 7,
   "id": "accf8a65-c3c9-4284-9188-31e299f6d824",
   "metadata": {},
   "outputs": [],
   "source": [
    "# To do: experiment with regularization\n",
    "\n",
    "# To do: WandB logging?\n",
    "\n",
    "# To do: hparams parallel coords? wandb have this already? \n",
    "# Maybe easier with MLFlow logging to local db serving a custom dashboard"
   ]
  },
  {
   "cell_type": "code",
   "execution_count": 8,
   "id": "48ff80a3-6643-4515-884d-d24902d53696",
   "metadata": {},
   "outputs": [],
   "source": [
    "# Quantile approximation for distributional similarity\n",
    "\n",
    "import numpy as np\n",
    "\n",
    "t_im3.shape # 122, 163\n",
    "t_rand = torch.rand(t_im3.shape)\n",
    "n_quantiles = 100\n",
    "\n",
    "# I like the idea of taking random quantiles like this, but I think it complicates\n",
    "# the integral approximation. If quantiles are evenly spaced, I can just sum. \n",
    "# otherwise, I think I need to factor in the dx\n",
    "##q = torch.rand(n_quantiles).sort().values\n",
    "#q = torch.linspace(0,1,steps=n_quantiles)\n",
    "\n",
    "#p0 = t_im3.quantile(q).numpy()\n",
    "#p1 = t_rand.quantile(q).numpy()\n",
    "#q = q.numpy()\n",
    "#d = np.abs(p0-p1)\n",
    "\n",
    "def q_q_distance(t0, t1, n_quantiles=100):\n",
    "    q = torch.linspace(0,1,steps=n_quantiles+1)[:-1]\n",
    "    p0 = t0.quantile(q)\n",
    "    p1 = t1.quantile(q)\n",
    "    d = math.sum(math.abs(p0-p1))\n",
    "    return d"
   ]
  },
  {
   "cell_type": "code",
   "execution_count": 9,
   "id": "1fe9b355-5400-4b18-9aac-6317af9a28d9",
   "metadata": {},
   "outputs": [],
   "source": [
    "#plt.scatter(q, p0)\n",
    "#plt.scatter(q, p1)\n",
    "#plt.show()\n",
    "\n",
    "\n",
    "#plt.scatter(q, d)\n",
    "#plt.show()"
   ]
  },
  {
   "cell_type": "code",
   "execution_count": 10,
   "id": "c0eacca0-7766-434c-a416-4a9bc2d4f739",
   "metadata": {},
   "outputs": [],
   "source": [
    "#d.sum()"
   ]
  },
  {
   "cell_type": "code",
   "execution_count": 11,
   "id": "f6774ce9-2525-4427-8f36-74b04a42b1ed",
   "metadata": {},
   "outputs": [],
   "source": [
    " # not identical\n",
    "#p0[0], p1[0], p0[-1], p1[-1] # ends up being the max, basically identical"
   ]
  },
  {
   "cell_type": "code",
   "execution_count": 12,
   "id": "a379adad-e9f5-447b-b058-5dc8bfe191e9",
   "metadata": {},
   "outputs": [],
   "source": [
    "# https://discuss.pytorch.org/t/torch-equivalent-of-numpy-random-choice/16146/19\n",
    "def perm_gpu_f32(pop_size, num_samples):\n",
    "    \"\"\"Use torch.randperm to generate indices on a 32-bit GPU tensor.\"\"\"\n",
    "    return torch.randperm(pop_size, dtype=torch.int32, device='cuda')[:num_samples]\n"
   ]
  },
  {
   "cell_type": "code",
   "execution_count": 13,
   "id": "e3d31cbd-5b14-493d-93f6-713ceea77241",
   "metadata": {},
   "outputs": [
    {
     "data": {
      "text/plain": [
       "tensor([3, 2, 7, 1, 9, 4, 8, 0, 6, 5], device='cuda:0', dtype=torch.int32)"
      ]
     },
     "execution_count": 13,
     "metadata": {},
     "output_type": "execute_result"
    }
   ],
   "source": [
    "perm_gpu_f32(10,20) # this is specifically w/o replacement"
   ]
  },
  {
   "cell_type": "code",
   "execution_count": 14,
   "id": "a2f54991-3f83-4ef7-b183-3173331e7225",
   "metadata": {},
   "outputs": [],
   "source": [
    "#(x-.5)/.5 # shift then scale\n",
    "#2x -1 # scale then shift"
   ]
  },
  {
   "cell_type": "code",
   "execution_count": 15,
   "id": "73027403-a523-4726-8d50-5e4c49954408",
   "metadata": {},
   "outputs": [],
   "source": [
    "# helpful!\n",
    "# https://www.kaggle.com/isbhargav/guide-to-pytorch-learning-rate-scheduling\n",
    "\n",
    "#model = torch.nn.Linear(2, 1)\n",
    "#optimizer = torch.optim.SGD(model.parameters(), lr=1) # does lr here event matter? I think it just needs to be anything\n",
    "#scheduler = torch.optim.lr_scheduler.CyclicLR(\n",
    "#    optimizer, \n",
    "#    base_lr=0.001,\n",
    "#    max_lr=0.1,  #ultimately, this is what controls lr\n",
    "#    step_size_up=5,\n",
    "#    step_size_down=200,\n",
    "#    mode=\"exp_range\",\n",
    "#    gamma=.996)\n",
    "#lrs = []\n",
    "\n",
    "\n",
    "#for i in range(1000):\n",
    "#    optimizer.step()\n",
    "#    lrs.append(optimizer.param_groups[0][\"lr\"])\n",
    "##     print(\"Factor = \",i,\" , Learning Rate = \",optimizer.param_groups[0][\"lr\"])\n",
    "#    scheduler.step()\n",
    "\n",
    "#plt.plot(lrs)\n",
    "#plt.show()"
   ]
  }
 ],
 "metadata": {
  "kernelspec": {
   "display_name": "Python 3 (ipykernel)",
   "language": "python",
   "name": "python3"
  },
  "language_info": {
   "codemirror_mode": {
    "name": "ipython",
    "version": 3
   },
   "file_extension": ".py",
   "mimetype": "text/x-python",
   "name": "python",
   "nbconvert_exporter": "python",
   "pygments_lexer": "ipython3",
   "version": "3.9.7"
  },
  "widgets": {
   "application/vnd.jupyter.widget-state+json": {
    "state": {
     "2109181f7f684a23807216c96b13b106": {
      "model_module": "@jupyter-widgets/controls",
      "model_module_version": "1.5.0",
      "model_name": "ProgressStyleModel",
      "state": {
       "description_width": ""
      }
     },
     "3abbb3386d8b40de8a4a318fa72c4bed": {
      "model_module": "@jupyter-widgets/base",
      "model_module_version": "1.2.0",
      "model_name": "LayoutModel",
      "state": {}
     },
     "3fbc5f22af1a4f8b86ee24c20e1af2ba": {
      "model_module": "@jupyter-widgets/controls",
      "model_module_version": "1.5.0",
      "model_name": "HTMLModel",
      "state": {
       "layout": "IPY_MODEL_f19a2c6b781f408c80f3e26b1c9fa003",
       "style": "IPY_MODEL_8ce604553edb40dc8fdec6f322d4d7d3",
       "value": " 1/? [00:00&lt;00:00, 25.60it/s, loss=0.00041, v_num=59]"
      }
     },
     "41f4fd5eb55643bca437cda0f3ac5b52": {
      "model_module": "@jupyter-widgets/controls",
      "model_module_version": "1.5.0",
      "model_name": "HTMLModel",
      "state": {
       "layout": "IPY_MODEL_3abbb3386d8b40de8a4a318fa72c4bed",
       "style": "IPY_MODEL_f9d2e31b1ca0499d8ea54e02368bf444",
       "value": "Epoch 4999: "
      }
     },
     "5061414d93b64bc983897501b1bc8b26": {
      "model_module": "@jupyter-widgets/controls",
      "model_module_version": "1.5.0",
      "model_name": "FloatProgressModel",
      "state": {
       "bar_style": "success",
       "layout": "IPY_MODEL_9aa731d3e72e4394ace2f6087435d3b3",
       "max": 1,
       "style": "IPY_MODEL_2109181f7f684a23807216c96b13b106",
       "value": 1
      }
     },
     "7c2e20febd7044969a7bf59e5c875f56": {
      "model_module": "@jupyter-widgets/controls",
      "model_module_version": "1.5.0",
      "model_name": "HBoxModel",
      "state": {
       "children": [
        "IPY_MODEL_41f4fd5eb55643bca437cda0f3ac5b52",
        "IPY_MODEL_5061414d93b64bc983897501b1bc8b26",
        "IPY_MODEL_3fbc5f22af1a4f8b86ee24c20e1af2ba"
       ],
       "layout": "IPY_MODEL_c1af06689e114b3b8baa6313e4113055"
      }
     },
     "8ce604553edb40dc8fdec6f322d4d7d3": {
      "model_module": "@jupyter-widgets/controls",
      "model_module_version": "1.5.0",
      "model_name": "DescriptionStyleModel",
      "state": {
       "description_width": ""
      }
     },
     "9aa731d3e72e4394ace2f6087435d3b3": {
      "model_module": "@jupyter-widgets/base",
      "model_module_version": "1.2.0",
      "model_name": "LayoutModel",
      "state": {
       "flex": "2"
      }
     },
     "c1af06689e114b3b8baa6313e4113055": {
      "model_module": "@jupyter-widgets/base",
      "model_module_version": "1.2.0",
      "model_name": "LayoutModel",
      "state": {
       "display": "inline-flex",
       "flex_flow": "row wrap",
       "width": "100%"
      }
     },
     "f19a2c6b781f408c80f3e26b1c9fa003": {
      "model_module": "@jupyter-widgets/base",
      "model_module_version": "1.2.0",
      "model_name": "LayoutModel",
      "state": {}
     },
     "f9d2e31b1ca0499d8ea54e02368bf444": {
      "model_module": "@jupyter-widgets/controls",
      "model_module_version": "1.5.0",
      "model_name": "DescriptionStyleModel",
      "state": {
       "description_width": ""
      }
     }
    },
    "version_major": 2,
    "version_minor": 0
   }
  }
 },
 "nbformat": 4,
 "nbformat_minor": 5
}
