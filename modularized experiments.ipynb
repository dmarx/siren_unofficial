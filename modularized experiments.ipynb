{
 "cells": [
  {
   "cell_type": "code",
   "execution_count": 1,
   "id": "a7b8ebd6-09b3-46a7-9369-64d9b76764b5",
   "metadata": {},
   "outputs": [],
   "source": [
    "from model import SirenImageLearner, SirenImageDataWrapper\n",
    "\n",
    "import math\n",
    "import torch\n",
    "from torch.optim.lr_scheduler import CosineAnnealingLR\n",
    "import torch.nn as nn\n",
    "import torch.nn.functional as F\n",
    "import torchvision\n",
    "import pytorch_lightning as pl\n",
    "\n",
    "from torchvision.transforms import ToTensor, ToPILImage\n",
    "\n",
    "from loguru import logger\n",
    "import matplotlib.pyplot as plt\n",
    "import PIL\n",
    "import tqdm\n",
    "\n",
    "# fuck it...\n",
    "DEVICE = 'cuda'"
   ]
  },
  {
   "cell_type": "code",
   "execution_count": 2,
   "id": "4cd195da-2353-4b37-a1af-5cd7d5850c35",
   "metadata": {},
   "outputs": [
    {
     "name": "stdout",
     "output_type": "stream",
     "text": [
      "Tue Oct 12 05:30:16 2021       \n",
      "+-----------------------------------------------------------------------------+\n",
      "| NVIDIA-SMI 471.41       Driver Version: 471.41       CUDA Version: 11.4     |\n",
      "|-------------------------------+----------------------+----------------------+\n",
      "| GPU  Name            TCC/WDDM | Bus-Id        Disp.A | Volatile Uncorr. ECC |\n",
      "| Fan  Temp  Perf  Pwr:Usage/Cap|         Memory-Usage | GPU-Util  Compute M. |\n",
      "|                               |                      |               MIG M. |\n",
      "|===============================+======================+======================|\n",
      "|   0  NVIDIA GeForce ... WDDM  | 00000000:01:00.0 Off |                  N/A |\n",
      "|  0%   46C    P8     9W / 350W |    719MiB / 24576MiB |      0%      Default |\n",
      "|                               |                      |                  N/A |\n",
      "+-------------------------------+----------------------+----------------------+\n",
      "                                                                               \n",
      "+-----------------------------------------------------------------------------+\n",
      "| Processes:                                                                  |\n",
      "|  GPU   GI   CI        PID   Type   Process name                  GPU Memory |\n",
      "|        ID   ID                                                   Usage      |\n",
      "|=============================================================================|\n",
      "|    0   N/A  N/A      1488    C+G   Insufficient Permissions        N/A      |\n",
      "|    0   N/A  N/A      4620    C+G   C:\\Windows\\explorer.exe         N/A      |\n",
      "|    0   N/A  N/A      8124    C+G   ...5n1h2txyewy\\SearchApp.exe    N/A      |\n",
      "|    0   N/A  N/A      8708    C+G   ...5n1h2txyewy\\SearchApp.exe    N/A      |\n",
      "|    0   N/A  N/A      8808    C+G   ...b3d8bbwe\\WinStore.App.exe    N/A      |\n",
      "|    0   N/A  N/A      9248    C+G   ...cw5n1h2txyewy\\LockApp.exe    N/A      |\n",
      "|    0   N/A  N/A      9668    C+G   ...ekyb3d8bbwe\\YourPhone.exe    N/A      |\n",
      "|    0   N/A  N/A     13596    C+G   ...nputApp\\TextInputHost.exe    N/A      |\n",
      "|    0   N/A  N/A     15180    C+G   ...ge\\Application\\msedge.exe    N/A      |\n",
      "|    0   N/A  N/A     15940    C+G   ...y\\ShellExperienceHost.exe    N/A      |\n",
      "|    0   N/A  N/A     16768    C+G   ...bbwe\\Microsoft.Photos.exe    N/A      |\n",
      "|    0   N/A  N/A     20372    C+G   ...lPanel\\SystemSettings.exe    N/A      |\n",
      "+-----------------------------------------------------------------------------+\n"
     ]
    }
   ],
   "source": [
    "!nvidia-smi"
   ]
  },
  {
   "cell_type": "code",
   "execution_count": 3,
   "id": "35e7be07-e0ab-456d-8d5c-e49e98a564c6",
   "metadata": {},
   "outputs": [
    {
     "name": "stderr",
     "output_type": "stream",
     "text": [
      "GPU available: True, used: True\n",
      "TPU available: False, using: 0 TPU cores\n",
      "IPU available: False, using: 0 IPUs\n"
     ]
    }
   ],
   "source": [
    "im_path = '../data/google-photos-export/uncompressed/takeout-20210901T023707Z-001/Takeout/Google Photos/lithophane candidates/20210313_133327.jpg'\n",
    "im = PIL.Image.open(im_path)\n",
    "im3 = im.resize((122, 163)).convert('L').rotate(-90, expand=True)\n",
    "t_im3 = ToTensor()(im3).squeeze()\n",
    "\n",
    "from pytorch_lightning.loggers import TensorBoardLogger, MLFlowLogger, WandbLogger\n",
    "\n",
    "#wandb_logger = WandbLogger()\n",
    "tb_logger = TensorBoardLogger(\"tb_logs\", name=\"siren-upsample\")\n",
    "\n",
    "model = SirenImageLearner(\n",
    "    #notebook_mode=True\n",
    "    warmup_steps=150,\n",
    "    )\n",
    "dm = SirenImageDataWrapper(target_image=t_im3)\n",
    "\n",
    "# https://pytorch-lightning.readthedocs.io/en/latest/common/trainer.html#trainer-flags\n",
    "trainer = pl.Trainer(\n",
    "    gpus=-1,\n",
    "    max_steps=1000,\n",
    "    #max_steps=100000, # I think there's a way to use CLI args to override here\n",
    "    log_every_n_steps=100, #50,\n",
    "    logger=tb_logger,\n",
    "    log_gpu_memory=True, # fuck yeah!\n",
    "    weights_summary=None,\n",
    ")"
   ]
  },
  {
   "cell_type": "code",
   "execution_count": 4,
   "id": "ab9a1b2c-35fc-4dd3-9115-482d4177a43a",
   "metadata": {},
   "outputs": [
    {
     "name": "stdout",
     "output_type": "stream",
     "text": [
      "Tue Oct 12 05:30:16 2021       \n",
      "+-----------------------------------------------------------------------------+\n",
      "| NVIDIA-SMI 471.41       Driver Version: 471.41       CUDA Version: 11.4     |\n",
      "|-------------------------------+----------------------+----------------------+\n",
      "| GPU  Name            TCC/WDDM | Bus-Id        Disp.A | Volatile Uncorr. ECC |\n",
      "| Fan  Temp  Perf  Pwr:Usage/Cap|         Memory-Usage | GPU-Util  Compute M. |\n",
      "|                               |                      |               MIG M. |\n",
      "|===============================+======================+======================|\n",
      "|   0  NVIDIA GeForce ... WDDM  | 00000000:01:00.0 Off |                  N/A |\n",
      "|  0%   46C    P8    11W / 350W |    719MiB / 24576MiB |      1%      Default |\n",
      "|                               |                      |                  N/A |\n",
      "+-------------------------------+----------------------+----------------------+\n",
      "                                                                               \n",
      "+-----------------------------------------------------------------------------+\n",
      "| Processes:                                                                  |\n",
      "|  GPU   GI   CI        PID   Type   Process name                  GPU Memory |\n",
      "|        ID   ID                                                   Usage      |\n",
      "|=============================================================================|\n",
      "|    0   N/A  N/A      1488    C+G   Insufficient Permissions        N/A      |\n",
      "|    0   N/A  N/A      4620    C+G   C:\\Windows\\explorer.exe         N/A      |\n",
      "|    0   N/A  N/A      8124    C+G   ...5n1h2txyewy\\SearchApp.exe    N/A      |\n",
      "|    0   N/A  N/A      8708    C+G   ...5n1h2txyewy\\SearchApp.exe    N/A      |\n",
      "|    0   N/A  N/A      8808    C+G   ...b3d8bbwe\\WinStore.App.exe    N/A      |\n",
      "|    0   N/A  N/A      9248    C+G   ...cw5n1h2txyewy\\LockApp.exe    N/A      |\n",
      "|    0   N/A  N/A      9668    C+G   ...ekyb3d8bbwe\\YourPhone.exe    N/A      |\n",
      "|    0   N/A  N/A     13596    C+G   ...nputApp\\TextInputHost.exe    N/A      |\n",
      "|    0   N/A  N/A     15180    C+G   ...ge\\Application\\msedge.exe    N/A      |\n",
      "|    0   N/A  N/A     15940    C+G   ...y\\ShellExperienceHost.exe    N/A      |\n",
      "|    0   N/A  N/A     16768    C+G   ...bbwe\\Microsoft.Photos.exe    N/A      |\n",
      "|    0   N/A  N/A     20372    C+G   ...lPanel\\SystemSettings.exe    N/A      |\n",
      "+-----------------------------------------------------------------------------+\n"
     ]
    }
   ],
   "source": [
    "!nvidia-smi"
   ]
  },
  {
   "cell_type": "code",
   "execution_count": 5,
   "id": "674e143f-4961-49fd-aca5-6d33d7887418",
   "metadata": {},
   "outputs": [
    {
     "name": "stderr",
     "output_type": "stream",
     "text": [
      "LOCAL_RANK: 0 - CUDA_VISIBLE_DEVICES: [0]\n"
     ]
    },
    {
     "data": {
      "application/vnd.jupyter.widget-view+json": {
       "model_id": "42f03e5c46e24cf0aa8b47ec5a21a9f1",
       "version_major": 2,
       "version_minor": 0
      },
      "text/plain": [
       "Training: -1it [00:00, ?it/s]"
      ]
     },
     "metadata": {},
     "output_type": "display_data"
    }
   ],
   "source": [
    "trainer.fit(model, dm)"
   ]
  },
  {
   "cell_type": "code",
   "execution_count": 6,
   "id": "680b0ec1-fb04-45e9-85b1-39e76cdda091",
   "metadata": {},
   "outputs": [
    {
     "name": "stdout",
     "output_type": "stream",
     "text": [
      "Tue Oct 12 05:31:54 2021       \n",
      "+-----------------------------------------------------------------------------+\n",
      "| NVIDIA-SMI 471.41       Driver Version: 471.41       CUDA Version: 11.4     |\n",
      "|-------------------------------+----------------------+----------------------+\n",
      "| GPU  Name            TCC/WDDM | Bus-Id        Disp.A | Volatile Uncorr. ECC |\n",
      "| Fan  Temp  Perf  Pwr:Usage/Cap|         Memory-Usage | GPU-Util  Compute M. |\n",
      "|                               |                      |               MIG M. |\n",
      "|===============================+======================+======================|\n",
      "|   0  NVIDIA GeForce ... WDDM  | 00000000:01:00.0 Off |                  N/A |\n",
      "|  0%   59C    P2   129W / 350W |   1849MiB / 24576MiB |     20%      Default |\n",
      "|                               |                      |                  N/A |\n",
      "+-------------------------------+----------------------+----------------------+\n",
      "                                                                               \n",
      "+-----------------------------------------------------------------------------+\n",
      "| Processes:                                                                  |\n",
      "|  GPU   GI   CI        PID   Type   Process name                  GPU Memory |\n",
      "|        ID   ID                                                   Usage      |\n",
      "|=============================================================================|\n",
      "|    0   N/A  N/A      1488    C+G   Insufficient Permissions        N/A      |\n",
      "|    0   N/A  N/A      4620    C+G   C:\\Windows\\explorer.exe         N/A      |\n",
      "|    0   N/A  N/A      8124    C+G   ...5n1h2txyewy\\SearchApp.exe    N/A      |\n",
      "|    0   N/A  N/A      8708    C+G   ...5n1h2txyewy\\SearchApp.exe    N/A      |\n",
      "|    0   N/A  N/A      8808    C+G   ...b3d8bbwe\\WinStore.App.exe    N/A      |\n",
      "|    0   N/A  N/A      9248    C+G   ...cw5n1h2txyewy\\LockApp.exe    N/A      |\n",
      "|    0   N/A  N/A      9580      C   ...3\\envs\\sandbox\\python.exe    N/A      |\n",
      "|    0   N/A  N/A      9668    C+G   ...ekyb3d8bbwe\\YourPhone.exe    N/A      |\n",
      "|    0   N/A  N/A     13596    C+G   ...nputApp\\TextInputHost.exe    N/A      |\n",
      "|    0   N/A  N/A     15180    C+G   ...ge\\Application\\msedge.exe    N/A      |\n",
      "|    0   N/A  N/A     15940    C+G   ...y\\ShellExperienceHost.exe    N/A      |\n",
      "|    0   N/A  N/A     16768    C+G   ...bbwe\\Microsoft.Photos.exe    N/A      |\n",
      "|    0   N/A  N/A     20372    C+G   ...lPanel\\SystemSettings.exe    N/A      |\n",
      "+-----------------------------------------------------------------------------+\n"
     ]
    }
   ],
   "source": [
    "!nvidia-smi"
   ]
  },
  {
   "cell_type": "code",
   "execution_count": 7,
   "id": "accf8a65-c3c9-4284-9188-31e299f6d824",
   "metadata": {},
   "outputs": [],
   "source": [
    "# To do: experiment with regularization\n",
    "\n",
    "# To do: WandB logging?\n",
    "\n",
    "# To do: hparams parallel coords? wandb have this already? \n",
    "# Maybe easier with MLFlow logging to local db serving a custom dashboard"
   ]
  },
  {
   "cell_type": "code",
   "execution_count": 8,
   "id": "48ff80a3-6643-4515-884d-d24902d53696",
   "metadata": {},
   "outputs": [],
   "source": [
    "# Quantile approximation for distributional similarity\n",
    "\n",
    "import numpy as np\n",
    "\n",
    "t_im3.shape # 122, 163\n",
    "t_rand = torch.rand(t_im3.shape)\n",
    "n_quantiles = 100\n",
    "\n",
    "# I like the idea of taking random quantiles like this, but I think it complicates\n",
    "# the integral approximation. If quantiles are evenly spaced, I can just sum. \n",
    "# otherwise, I think I need to factor in the dx\n",
    "##q = torch.rand(n_quantiles).sort().values\n",
    "#q = torch.linspace(0,1,steps=n_quantiles)\n",
    "\n",
    "#p0 = t_im3.quantile(q).numpy()\n",
    "#p1 = t_rand.quantile(q).numpy()\n",
    "#q = q.numpy()\n",
    "#d = np.abs(p0-p1)\n",
    "\n",
    "def q_q_distance(t0, t1, n_quantiles=100):\n",
    "    q = torch.linspace(0,1,steps=n_quantiles+1)[:-1]\n",
    "    p0 = t0.quantile(q)\n",
    "    p1 = t1.quantile(q)\n",
    "    d = math.sum(math.abs(p0-p1))\n",
    "    return d"
   ]
  },
  {
   "cell_type": "code",
   "execution_count": 9,
   "id": "1fe9b355-5400-4b18-9aac-6317af9a28d9",
   "metadata": {},
   "outputs": [],
   "source": [
    "#plt.scatter(q, p0)\n",
    "#plt.scatter(q, p1)\n",
    "#plt.show()\n",
    "\n",
    "\n",
    "#plt.scatter(q, d)\n",
    "#plt.show()"
   ]
  },
  {
   "cell_type": "code",
   "execution_count": 10,
   "id": "c0eacca0-7766-434c-a416-4a9bc2d4f739",
   "metadata": {},
   "outputs": [],
   "source": [
    "#d.sum()"
   ]
  },
  {
   "cell_type": "code",
   "execution_count": 11,
   "id": "f6774ce9-2525-4427-8f36-74b04a42b1ed",
   "metadata": {},
   "outputs": [],
   "source": [
    " # not identical\n",
    "#p0[0], p1[0], p0[-1], p1[-1] # ends up being the max, basically identical"
   ]
  },
  {
   "cell_type": "code",
   "execution_count": 12,
   "id": "a379adad-e9f5-447b-b058-5dc8bfe191e9",
   "metadata": {},
   "outputs": [],
   "source": [
    "# https://discuss.pytorch.org/t/torch-equivalent-of-numpy-random-choice/16146/19\n",
    "def perm_gpu_f32(pop_size, num_samples):\n",
    "    \"\"\"Use torch.randperm to generate indices on a 32-bit GPU tensor.\"\"\"\n",
    "    return torch.randperm(pop_size, dtype=torch.int32, device='cuda')[:num_samples]\n"
   ]
  },
  {
   "cell_type": "code",
   "execution_count": 13,
   "id": "e3d31cbd-5b14-493d-93f6-713ceea77241",
   "metadata": {},
   "outputs": [
    {
     "data": {
      "text/plain": [
       "tensor([3, 1, 6, 2, 0, 8, 4, 7, 9, 5], device='cuda:0', dtype=torch.int32)"
      ]
     },
     "execution_count": 13,
     "metadata": {},
     "output_type": "execute_result"
    }
   ],
   "source": [
    "perm_gpu_f32(10,20) # this is specifically w/o replacement"
   ]
  }
 ],
 "metadata": {
  "kernelspec": {
   "display_name": "Python 3 (ipykernel)",
   "language": "python",
   "name": "python3"
  },
  "language_info": {
   "codemirror_mode": {
    "name": "ipython",
    "version": 3
   },
   "file_extension": ".py",
   "mimetype": "text/x-python",
   "name": "python",
   "nbconvert_exporter": "python",
   "pygments_lexer": "ipython3",
   "version": "3.9.7"
  },
  "widgets": {
   "application/vnd.jupyter.widget-state+json": {
    "state": {
     "0222ebc8ca924a0183f86fe4faf25eef": {
      "model_module": "@jupyter-widgets/base",
      "model_module_version": "1.2.0",
      "model_name": "LayoutModel",
      "state": {}
     },
     "17e1f1125b1d4fc8af5841d90b9f7e69": {
      "model_module": "@jupyter-widgets/base",
      "model_module_version": "1.2.0",
      "model_name": "LayoutModel",
      "state": {
       "flex": "2"
      }
     },
     "1b372421774146809d83f28f0ee808a3": {
      "model_module": "@jupyter-widgets/controls",
      "model_module_version": "1.5.0",
      "model_name": "FloatProgressModel",
      "state": {
       "bar_style": "success",
       "layout": "IPY_MODEL_17e1f1125b1d4fc8af5841d90b9f7e69",
       "max": 1,
       "style": "IPY_MODEL_ead10a9f2cae472caea177d85b0c79e1",
       "value": 1
      }
     },
     "27a31942c2b84bcb80bf8222bbf720c1": {
      "model_module": "@jupyter-widgets/controls",
      "model_module_version": "1.5.0",
      "model_name": "HTMLModel",
      "state": {
       "layout": "IPY_MODEL_6ca07339cd194c2dbd92cbea28338565",
       "style": "IPY_MODEL_5fdc9f0d92844178b8ada1f6df97f1a6",
       "value": " 1/? [00:00&lt;00:00, 21.33it/s, loss=1.43e-06, v_num=43]"
      }
     },
     "42f03e5c46e24cf0aa8b47ec5a21a9f1": {
      "model_module": "@jupyter-widgets/controls",
      "model_module_version": "1.5.0",
      "model_name": "HBoxModel",
      "state": {
       "children": [
        "IPY_MODEL_906509e2ea5d478fbc195e1717398f88",
        "IPY_MODEL_1b372421774146809d83f28f0ee808a3",
        "IPY_MODEL_27a31942c2b84bcb80bf8222bbf720c1"
       ],
       "layout": "IPY_MODEL_a8fe453aac024ee6857783a30752b741"
      }
     },
     "5fdc9f0d92844178b8ada1f6df97f1a6": {
      "model_module": "@jupyter-widgets/controls",
      "model_module_version": "1.5.0",
      "model_name": "DescriptionStyleModel",
      "state": {
       "description_width": ""
      }
     },
     "6ca07339cd194c2dbd92cbea28338565": {
      "model_module": "@jupyter-widgets/base",
      "model_module_version": "1.2.0",
      "model_name": "LayoutModel",
      "state": {}
     },
     "8a00af495c604cdd9e8df0f96bb1fc23": {
      "model_module": "@jupyter-widgets/controls",
      "model_module_version": "1.5.0",
      "model_name": "DescriptionStyleModel",
      "state": {
       "description_width": ""
      }
     },
     "906509e2ea5d478fbc195e1717398f88": {
      "model_module": "@jupyter-widgets/controls",
      "model_module_version": "1.5.0",
      "model_name": "HTMLModel",
      "state": {
       "layout": "IPY_MODEL_0222ebc8ca924a0183f86fe4faf25eef",
       "style": "IPY_MODEL_8a00af495c604cdd9e8df0f96bb1fc23",
       "value": "Epoch 999: "
      }
     },
     "a8fe453aac024ee6857783a30752b741": {
      "model_module": "@jupyter-widgets/base",
      "model_module_version": "1.2.0",
      "model_name": "LayoutModel",
      "state": {
       "display": "inline-flex",
       "flex_flow": "row wrap",
       "width": "100%"
      }
     },
     "ead10a9f2cae472caea177d85b0c79e1": {
      "model_module": "@jupyter-widgets/controls",
      "model_module_version": "1.5.0",
      "model_name": "ProgressStyleModel",
      "state": {
       "description_width": ""
      }
     }
    },
    "version_major": 2,
    "version_minor": 0
   }
  }
 },
 "nbformat": 4,
 "nbformat_minor": 5
}
